{
  "nbformat": 4,
  "nbformat_minor": 0,
  "metadata": {
    "colab": {
      "name": "Day2Assignment 1.ipynb",
      "provenance": [],
      "collapsed_sections": [],
      "authorship_tag": "ABX9TyNy+ADndpBXn7kZWTetFish",
      "include_colab_link": true
    },
    "kernelspec": {
      "name": "python3",
      "display_name": "Python 3"
    }
  },
  "cells": [
    {
      "cell_type": "markdown",
      "metadata": {
        "id": "view-in-github",
        "colab_type": "text"
      },
      "source": [
        "<a href=\"https://colab.research.google.com/github/sssinghsimran7/python-Assignment/blob/master/Day2Assignment_1.ipynb\" target=\"_parent\"><img src=\"https://colab.research.google.com/assets/colab-badge.svg\" alt=\"Open In Colab\"/></a>"
      ]
    },
    {
      "cell_type": "code",
      "metadata": {
        "id": "NSvbCpcLzP-J",
        "colab_type": "code",
        "colab": {}
      },
      "source": [
        " \n",
        "x= int(input(\"Enter the altitude =\"))\n",
        " \n",
        "if x <=1000:\n",
        "    print(\"Safe to land\")\n",
        "elif x <5000:\n",
        "    print(\"Bring down to 1000 ft.\")\n",
        "else:\n",
        "   print(\" Go around and try later\")"
      ],
      "execution_count": null,
      "outputs": []
    }
  ]
}